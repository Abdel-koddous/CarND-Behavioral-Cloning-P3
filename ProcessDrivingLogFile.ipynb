{
 "cells": [
  {
   "cell_type": "markdown",
   "metadata": {},
   "source": [
    "# Udacity driving log csv file Histogram Analysis and Processing"
   ]
  },
  {
   "cell_type": "code",
   "execution_count": 1,
   "metadata": {},
   "outputs": [],
   "source": [
    "import matplotlib.pyplot as plt\n",
    "from matplotlib.pyplot import figure, colors\n",
    "from matplotlib.ticker import PercentFormatter\n",
    "import numpy as np\n",
    "import csv\n",
    "\n",
    "# Fixing random state for reproducibility\n",
    "np.random.seed(19680801)"
   ]
  },
  {
   "cell_type": "code",
   "execution_count": 2,
   "metadata": {},
   "outputs": [],
   "source": [
    "def loadCSVFile(csv_filename):\n",
    "    \"\"\" \n",
    "    Loads csv file into a list of lists\n",
    "    Each element in the outer list is a row of the csv file\n",
    "    \"\"\"\n",
    "    rows = []\n",
    "    with open(csv_filename) as csv_file:\n",
    "        csv_reader = csv.reader(csv_file, delimiter=',')\n",
    "        for row in csv_reader:\n",
    "            rows += [row]\n",
    "    \n",
    "    return rows\n",
    "\n",
    "\n",
    "\n"
   ]
  },
  {
   "cell_type": "code",
   "execution_count": 3,
   "metadata": {},
   "outputs": [
    {
     "name": "stdout",
     "output_type": "stream",
     "text": [
      "8036\n"
     ]
    }
   ],
   "source": [
    "CSV_FILENAME = \"driving_log_udacity.csv\"\n",
    "STEERING_ANGLE_IDX = 3\n",
    "\n",
    "file_rows = loadCSVFile( CSV_FILENAME )\n",
    "N = len(file_rows) - 1 \n",
    "print(N)\n",
    "#print(file_rows[:3])\n",
    "\n",
    "steering_angles = []\n",
    "for i in range(1,N):\n",
    "    steering_angles.append( float( file_rows[i][STEERING_ANGLE_IDX] ) )"
   ]
  },
  {
   "cell_type": "code",
   "execution_count": 4,
   "metadata": {
    "scrolled": false
   },
   "outputs": [
    {
     "data": {
      "image/png": "[encoded data removed]",
      "text/plain": [
       "<Figure size 960x480 with 1 Axes>"
      ]
     },
     "metadata": {
      "needs_background": "light"
     },
     "output_type": "display_data"
    }
   ],
   "source": [
    "d = np.random.laplace(loc=15, scale=3, size=500)\n",
    "\n",
    "# An \"interface\" to matplotlib.axes.Axes.hist() method\n",
    "figure(figsize=(12, 6), dpi=80)\n",
    "n, bins, patches = plt.hist(x=steering_angles, bins=40, color='#0504aa',\n",
    "                            alpha=0.7, rwidth=0.7)\n",
    "plt.grid(axis='y', alpha=0.6)\n",
    "plt.title('Udacity Raw driving log data Histogram')\n",
    "plt.xlabel('Steering Angle')\n",
    "plt.ylabel('Number of Images')\n",
    "plt.show()"
   ]
  },
  {
   "cell_type": "code",
   "execution_count": 5,
   "metadata": {
    "scrolled": false
   },
   "outputs": [
    {
     "name": "stdout",
     "output_type": "stream",
     "text": [
      "4880\n",
      "3156\n",
      "4356\n"
     ]
    }
   ],
   "source": [
    "nearZeroSteering_idxes = []\n",
    "count = 0\n",
    "for i in range(N-1):\n",
    "    if abs( steering_angles[i] ) < 0.05:\n",
    "        count += 1\n",
    "        #print(steering_angles[i])\n",
    "        nearZeroSteering_idxes.append(i)\n",
    "        \n",
    "\n",
    "print(count)\n",
    "\n",
    "NUMBER_OF_ALL_IMAGES = N\n",
    "NUMBER_OF_IMAGES_WITH_NEAR_ZERO_STEERING = 1200 \n",
    "\n",
    "savedImages_idxes = []\n",
    "\n",
    "for i in range(NUMBER_OF_ALL_IMAGES):\n",
    "    \n",
    "    if i not in nearZeroSteering_idxes:\n",
    "        savedImages_idxes.append(i)\n",
    "\n",
    "\n",
    "        \n",
    "print(len(savedImages_idxes))    \n",
    "\n",
    "# Need to pick randomly from the near zero...\n",
    "import random as rd\n",
    "\n",
    "already_added = []\n",
    "for i in range(NUMBER_OF_IMAGES_WITH_NEAR_ZERO_STEERING):\n",
    "\n",
    "    random_idx = rd.randint(0, NUMBER_OF_IMAGES_WITH_NEAR_ZERO_STEERING - 1)\n",
    "    while random_idx in already_added:\n",
    "            random_idx = rd.randint(0, NUMBER_OF_IMAGES_WITH_NEAR_ZERO_STEERING - 1)\n",
    "            #print(random_idx, \" is already added\")\n",
    "            \n",
    "    savedImages_idxes.append(nearZeroSteering_idxes[ random_idx ])\n",
    "    already_added.append(random_idx)\n",
    "\n",
    "print(len(savedImages_idxes))    \n",
    "\n",
    "#print(savedImages_idxes)"
   ]
  },
  {
   "cell_type": "markdown",
   "metadata": {},
   "source": [
    "### Customize CSV File"
   ]
  },
  {
   "cell_type": "code",
   "execution_count": 6,
   "metadata": {},
   "outputs": [
    {
     "name": "stdout",
     "output_type": "stream",
     "text": [
      "[['center', 'left', 'right', 'steering', 'throttle', 'brake', 'speed'], ['IMG/center_2016_12_01_13_30_48_287.jpg', ' IMG/left_2016_12_01_13_30_48_287.jpg', ' IMG/right_2016_12_01_13_30_48_287.jpg', ' 0', ' 0', ' 0', ' 22.14829'], ['IMG/center_2016_12_01_13_30_48_404.jpg', ' IMG/left_2016_12_01_13_30_48_404.jpg', ' IMG/right_2016_12_01_13_30_48_404.jpg', ' 0', ' 0', ' 0', ' 21.87963'], ['IMG/center_2016_12_01_13_31_12_937.jpg', ' IMG/left_2016_12_01_13_31_12_937.jpg', ' IMG/right_2016_12_01_13_31_12_937.jpg', ' 0', ' 0', ' 0', ' 1.453011'], ['IMG/center_2016_12_01_13_31_13_037.jpg', ' IMG/left_2016_12_01_13_31_13_037.jpg', ' IMG/right_2016_12_01_13_31_13_037.jpg', ' 0', ' 0', ' 0', ' 1.438419']]\n"
     ]
    }
   ],
   "source": [
    "#print(file_rows[0])\n",
    "filtered_file_rows = [ file_rows[0] ]\n",
    "for i in range(N):\n",
    "    if i in savedImages_idxes:\n",
    "        filtered_file_rows.append(file_rows[i+1])\n",
    "\n",
    "print(filtered_file_rows[:5])"
   ]
  },
  {
   "cell_type": "markdown",
   "metadata": {},
   "source": [
    "## Save CSV files"
   ]
  },
  {
   "cell_type": "code",
   "execution_count": 7,
   "metadata": {
    "scrolled": false
   },
   "outputs": [],
   "source": [
    "filtered_filename = \"filtered_driving_log_1200_rd.csv\"\n",
    "\n",
    "with open(filtered_filename, mode='w', newline='') as output_file:\n",
    "    driving_writer = csv.writer(output_file)\n",
    "    for row in filtered_file_rows:\n",
    "        driving_writer.writerow(row)"
   ]
  },
  {
   "cell_type": "markdown",
   "metadata": {},
   "source": [
    "### Reload filtered driving log"
   ]
  },
  {
   "cell_type": "code",
   "execution_count": 8,
   "metadata": {},
   "outputs": [
    {
     "name": "stdout",
     "output_type": "stream",
     "text": [
      "8036\n",
      "[['center', 'left', 'right', 'steering', 'throttle', 'brake', 'speed'], ['IMG/center_2016_12_01_13_30_48_287.jpg', ' IMG/left_2016_12_01_13_30_48_287.jpg', ' IMG/right_2016_12_01_13_30_48_287.jpg', ' 0', ' 0', ' 0', ' 22.14829'], ['IMG/center_2016_12_01_13_30_48_404.jpg', ' IMG/left_2016_12_01_13_30_48_404.jpg', ' IMG/right_2016_12_01_13_30_48_404.jpg', ' 0', ' 0', ' 0', ' 21.87963']]\n"
     ]
    },
    {
     "data": {
      "image/png": "[encoded data removed]",
      "text/plain": [
       "<Figure size 960x480 with 1 Axes>"
      ]
     },
     "metadata": {
      "needs_background": "light"
     },
     "output_type": "display_data"
    }
   ],
   "source": [
    "reloaded_file_rows = loadCSVFile( filtered_filename )\n",
    "N2 = len(reloaded_file_rows) - 1 \n",
    "print(N)\n",
    "print(reloaded_file_rows[:3])\n",
    "\n",
    "reloaded_steering_angles = []\n",
    "for i in range(1,N2):\n",
    "    try:\n",
    "        reloaded_steering_angles.append( float( reloaded_file_rows[i][STEERING_ANGLE_IDX] ) )\n",
    "    except:\n",
    "        print(\"EXCEPTION\")\n",
    "    \n",
    "\n",
    "# An \"interface\" to matplotlib.axes.Axes.hist() method\n",
    "figure(figsize=(12, 6), dpi=80)\n",
    "n, bins, patches = plt.hist(x=reloaded_steering_angles, bins=40, color='#0504aa',\n",
    "                            alpha=0.7, rwidth=0.7)\n",
    "plt.grid(axis='y', alpha=0.6)\n",
    "plt.xlabel('Steering Angle')\n",
    "plt.ylabel('Number of Images')\n",
    "plt.title('Udacity Flattened driving log data Histogram')\n",
    "plt.show()"
   ]
  }
 ],
 "metadata": {
  "kernelspec": {
   "display_name": "Python 3",
   "language": "python",
   "name": "python3"
  },
  "language_info": {
   "codemirror_mode": {
    "name": "ipython",
    "version": 3
   },
   "file_extension": ".py",
   "mimetype": "text/x-python",
   "name": "python",
   "nbconvert_exporter": "python",
   "pygments_lexer": "ipython3",
   "version": "3.7.0"
  }
 },
 "nbformat": 4,
 "nbformat_minor": 2
}
